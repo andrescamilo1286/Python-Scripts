{
 "cells": [
  {
   "cell_type": "markdown",
   "id": "736ba232",
   "metadata": {},
   "source": [
    "CIENCIA DE DATOS -- BOOK\n"
   ]
  },
  {
   "cell_type": "markdown",
   "id": "2c0d74fd",
   "metadata": {},
   "source": [
    "#Funcion type -- Devuelve el tipo de dato"
   ]
  },
  {
   "cell_type": "code",
   "execution_count": 2,
   "id": "05b36e89",
   "metadata": {},
   "outputs": [
    {
     "name": "stdout",
     "output_type": "stream",
     "text": [
      "<class 'int'>\n"
     ]
    }
   ],
   "source": [
    "caja1=100\n",
    "print(type(caja1))"
   ]
  },
  {
   "cell_type": "markdown",
   "id": "f96fe242",
   "metadata": {},
   "source": [
    "#Funcion para cambiar de tipo de datos - float - int -bool"
   ]
  },
  {
   "cell_type": "code",
   "execution_count": 8,
   "id": "c1b9004e",
   "metadata": {},
   "outputs": [
    {
     "name": "stdout",
     "output_type": "stream",
     "text": [
      "1\n"
     ]
    }
   ],
   "source": [
    "caja2=float(2)\n",
    "caja3=int(2.1)\n",
    "caja4=int(\"1\")\n",
    "caja5=bool(1)\n",
    "caja6=int(True)\n",
    "print(caja6)"
   ]
  },
  {
   "cell_type": "markdown",
   "id": "09c0a2c9",
   "metadata": {},
   "source": [
    "#Funcion para buscar en un texto la posicion antes de lo buscado"
   ]
  },
  {
   "cell_type": "code",
   "execution_count": 14,
   "id": "e2c8ffa1",
   "metadata": {},
   "outputs": [
    {
     "name": "stdout",
     "output_type": "stream",
     "text": [
      "5\n"
     ]
    }
   ],
   "source": [
    "print(\"hola Maria C\".find(\"Maria\"))"
   ]
  },
  {
   "cell_type": "code",
   "execution_count": null,
   "id": "f176047f",
   "metadata": {},
   "outputs": [],
   "source": []
  }
 ],
 "metadata": {
  "kernelspec": {
   "display_name": "Python 3 (ipykernel)",
   "language": "python",
   "name": "python3"
  },
  "language_info": {
   "codemirror_mode": {
    "name": "ipython",
    "version": 3
   },
   "file_extension": ".py",
   "mimetype": "text/x-python",
   "name": "python",
   "nbconvert_exporter": "python",
   "pygments_lexer": "ipython3",
   "version": "3.9.12"
  }
 },
 "nbformat": 4,
 "nbformat_minor": 5
}
