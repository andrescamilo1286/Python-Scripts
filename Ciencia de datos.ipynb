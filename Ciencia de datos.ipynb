{
 "cells": [
  {
   "cell_type": "markdown",
   "id": "736ba232",
   "metadata": {},
   "source": [
    "CIENCIA DE DATOS -- BOOK\n"
   ]
  },
  {
   "cell_type": "markdown",
   "id": "2c0d74fd",
   "metadata": {},
   "source": [
    "#Funcion type -- Devuelve el tipo de dato"
   ]
  },
  {
   "cell_type": "code",
   "execution_count": 2,
   "id": "05b36e89",
   "metadata": {},
   "outputs": [
    {
     "name": "stdout",
     "output_type": "stream",
     "text": [
      "<class 'int'>\n"
     ]
    }
   ],
   "source": [
    "caja1=100\n",
    "print(type(caja1))"
   ]
  },
  {
   "cell_type": "markdown",
   "id": "f96fe242",
   "metadata": {},
   "source": [
    "#Funcion para cambiar de tipo de datos - float - int -bool"
   ]
  },
  {
   "cell_type": "code",
   "execution_count": 8,
   "id": "c1b9004e",
   "metadata": {},
   "outputs": [
    {
     "name": "stdout",
     "output_type": "stream",
     "text": [
      "1\n"
     ]
    }
   ],
   "source": [
    "caja2=float(2)\n",
    "caja3=int(2.1)\n",
    "caja4=int(\"1\")\n",
    "caja5=bool(1)\n",
    "caja6=int(True)\n",
    "print(caja6)"
   ]
  },
  {
   "cell_type": "markdown",
   "id": "09c0a2c9",
   "metadata": {},
   "source": [
    "#Funcion para hallar el indice inicial de una ubcadena de caracteres"
   ]
  },
  {
   "cell_type": "code",
   "execution_count": 2,
   "id": "e2c8ffa1",
   "metadata": {},
   "outputs": [
    {
     "name": "stdout",
     "output_type": "stream",
     "text": [
      "5\n"
     ]
    }
   ],
   "source": [
    "print(\"hola Maria C\".find(\"Maria\"))"
   ]
  },
  {
   "cell_type": "markdown",
   "id": "4a9c3441",
   "metadata": {},
   "source": [
    "#Obtener la version de Python"
   ]
  },
  {
   "cell_type": "code",
   "execution_count": 3,
   "id": "c7a589b6",
   "metadata": {},
   "outputs": [
    {
     "name": "stdout",
     "output_type": "stream",
     "text": [
      "3.10.6 (tags/v3.10.6:9c7b4bd, Aug  1 2022, 21:53:49) [MSC v.1932 64 bit (AMD64)]\n"
     ]
    }
   ],
   "source": [
    "print(sys.version)"
   ]
  },
  {
   "cell_type": "markdown",
   "id": "6c9c3ee1",
   "metadata": {},
   "source": [
    "#Agregar comentarios con #"
   ]
  },
  {
   "cell_type": "code",
   "execution_count": 4,
   "id": "b1f8c598",
   "metadata": {},
   "outputs": [
    {
     "name": "stdout",
     "output_type": "stream",
     "text": [
      "Hola mundo\n"
     ]
    }
   ],
   "source": [
    "print(\"Hola mundo\")#Esta linea imprime una cadena de texto"
   ]
  },
  {
   "cell_type": "markdown",
   "id": "ec39333e",
   "metadata": {},
   "source": [
    "Se recomienda usar nombres en minusculas para las variables y en mayuscula para Constantes (Cuyo valor permanece sin cambiar)."
   ]
  },
  {
   "cell_type": "code",
   "execution_count": 13,
   "id": "95cc2929",
   "metadata": {},
   "outputs": [
    {
     "name": "stdout",
     "output_type": "stream",
     "text": [
      "301\n"
     ]
    }
   ],
   "source": [
    "caja1=200\n",
    "CAJA2=300"
   ]
  },
  {
   "cell_type": "markdown",
   "id": "21000bf0",
   "metadata": {},
   "source": [
    "#Manejo de cadena de caracteres"
   ]
  },
  {
   "cell_type": "code",
   "execution_count": 7,
   "id": "9500d7f6",
   "metadata": {},
   "outputs": [
    {
     "name": "stdout",
     "output_type": "stream",
     "text": [
      "32\n",
      "s\n"
     ]
    }
   ],
   "source": [
    "texto='Esto es una cadena de caracteres'\n",
    "tamano=len(texto)# la funcion [len[] sirve para conocer el numero de caracteres de una cadena de texto\n",
    "print(tamano)\n"
   ]
  },
  {
   "cell_type": "code",
   "execution_count": 9,
   "id": "7d385629",
   "metadata": {},
   "outputs": [
    {
     "name": "stdout",
     "output_type": "stream",
     "text": [
      "Hola mundo\n"
     ]
    }
   ],
   "source": [
    "texto1='Hola'\n",
    "texto2='mundo'\n",
    "print(texto1 +' '+ texto2) #Concatenamos cadenas de caracteres"
   ]
  },
  {
   "cell_type": "code",
   "execution_count": 11,
   "id": "d84c6b8e",
   "metadata": {},
   "outputs": [
    {
     "name": "stdout",
     "output_type": "stream",
     "text": [
      "Hola Hola Hola \n"
     ]
    }
   ],
   "source": [
    "texto1='Hola ' * 3\n",
    "print(texto1) # Multiplicamos un caracter por las veces que queremos que se repita"
   ]
  },
  {
   "cell_type": "code",
   "execution_count": 15,
   "id": "4fbdd8fa",
   "metadata": {},
   "outputs": [
    {
     "name": "stdout",
     "output_type": "stream",
     "text": [
      "Hola\n",
      "mundo\n",
      "Hola\tmundo\n",
      "mundo\n"
     ]
    }
   ],
   "source": [
    "texto1='Hola'\n",
    "texto2='mundo'\n",
    "print(texto1+'\\n'+texto2) #\\n Representa una nueva linea\n",
    "print(texto1+'\\t'+texto2) #\\t representa una posicion tabulada\n",
    "print(texto1+'\\r'+texto2) #\\r No muestra el texto anterior a  \\r"
   ]
  }
 ],
 "metadata": {
  "kernelspec": {
   "display_name": "Python 3.10.6 64-bit",
   "language": "python",
   "name": "python3"
  },
  "language_info": {
   "codemirror_mode": {
    "name": "ipython",
    "version": 3
   },
   "file_extension": ".py",
   "mimetype": "text/x-python",
   "name": "python",
   "nbconvert_exporter": "python",
   "pygments_lexer": "ipython3",
   "version": "3.10.6"
  },
  "vscode": {
   "interpreter": {
    "hash": "998afd2c369e47a6cccf08aeb32ea0017e2467a041d6b3193873ae8c315d66ab"
   }
  }
 },
 "nbformat": 4,
 "nbformat_minor": 5
}
