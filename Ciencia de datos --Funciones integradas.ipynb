{
 "cells": [
  {
   "cell_type": "code",
   "execution_count": 13,
   "metadata": {},
   "outputs": [
    {
     "name": "stdout",
     "output_type": "stream",
     "text": [
      "u\n",
      "1\n",
      "8\n"
     ]
    }
   ],
   "source": [
    "cadena=max('Hola mundo') #Funciones muestra el caracter mas grande de la cadena.\n",
    "print(cadena)\n",
    "\n",
    "cadena=min('12345789') #Funciones muestra el caracter mas pequeño de la cadena.\n",
    "print(cadena)\n",
    "\n",
    "cadena=len('12345789') #Funciones muestra la cantidad de caracteres que hay en la cadena..\n",
    "print(cadena)"
   ]
  },
  {
   "cell_type": "code",
   "execution_count": 21,
   "metadata": {},
   "outputs": [
    {
     "ename": "TypeError",
     "evalue": "'dict' object is not callable",
     "output_type": "error",
     "traceback": [
      "\u001b[1;31m---------------------------------------------------------------------------\u001b[0m",
      "\u001b[1;31mTypeError\u001b[0m                                 Traceback (most recent call last)",
      "\u001b[1;32mc:\\Users\\andres.estrada\\Documents\\Python Scripts\\Python-Scripts\\Ciencia de datos --Funciones integradas.ipynb Cell 2'\u001b[0m in \u001b[0;36m<cell line: 2>\u001b[1;34m()\u001b[0m\n\u001b[0;32m      <a href='vscode-notebook-cell:/c%3A/Users/andres.estrada/Documents/Python%20Scripts/Python-Scripts/Ciencia%20de%20datos%20--Funciones%20integradas.ipynb#ch0000001?line=0'>1</a>\u001b[0m number\u001b[39m=\u001b[39m \u001b[39m6\u001b[39m \n\u001b[1;32m----> <a href='vscode-notebook-cell:/c%3A/Users/andres.estrada/Documents/Python%20Scripts/Python-Scripts/Ciencia%20de%20datos%20--Funciones%20integradas.ipynb#ch0000001?line=1'>2</a>\u001b[0m \u001b[39mprint\u001b[39;49m(number)\n\u001b[0;32m      <a href='vscode-notebook-cell:/c%3A/Users/andres.estrada/Documents/Python%20Scripts/Python-Scripts/Ciencia%20de%20datos%20--Funciones%20integradas.ipynb#ch0000001?line=2'>3</a>\u001b[0m product \u001b[39m=\u001b[39m \u001b[39m1\u001b[39m\n\u001b[0;32m      <a href='vscode-notebook-cell:/c%3A/Users/andres.estrada/Documents/Python%20Scripts/Python-Scripts/Ciencia%20de%20datos%20--Funciones%20integradas.ipynb#ch0000001?line=3'>4</a>\u001b[0m \u001b[39mfor\u001b[39;00m i \u001b[39min\u001b[39;00m \u001b[39mrange\u001b[39m(number) : \u001b[39m#Funcion range muestra los rangos de la cadena\u001b[39;00m\n",
      "\u001b[1;31mTypeError\u001b[0m: 'dict' object is not callable"
     ]
    }
   ],
   "source": [
    "number= 6 \n",
    "print(number)\n",
    "product = 1\n",
    "for i in range(number) : #Funcion range muestra los rangos de la cadena\n",
    "    product = product * (i+1)\n",
    "\n",
    "print(product)"
   ]
  },
  {
   "cell_type": "code",
   "execution_count": 23,
   "metadata": {},
   "outputs": [
    {
     "ename": "TypeError",
     "evalue": "'dict' object is not callable",
     "output_type": "error",
     "traceback": [
      "\u001b[1;31m---------------------------------------------------------------------------\u001b[0m",
      "\u001b[1;31mTypeError\u001b[0m                                 Traceback (most recent call last)",
      "\u001b[1;32mc:\\Users\\andres.estrada\\Documents\\Python Scripts\\Python-Scripts\\Ciencia de datos --Funciones integradas.ipynb Cell 3'\u001b[0m in \u001b[0;36m<cell line: 2>\u001b[1;34m()\u001b[0m\n\u001b[0;32m      <a href='vscode-notebook-cell:/c%3A/Users/andres.estrada/Documents/Python%20Scripts/Python-Scripts/Ciencia%20de%20datos%20--Funciones%20integradas.ipynb#ch0000002?line=0'>1</a>\u001b[0m \u001b[39mdict\u001b[39m \u001b[39m=\u001b[39m {\u001b[39m\"\u001b[39m\u001b[39mkey1\u001b[39m\u001b[39m\"\u001b[39m:\u001b[39m1\u001b[39m,\u001b[39m\"\u001b[39m\u001b[39mkey1\u001b[39m\u001b[39m\"\u001b[39m:\u001b[39m2\u001b[39m,\u001b[39m\"\u001b[39m\u001b[39mkey1\u001b[39m\u001b[39m\"\u001b[39m:\u001b[39m3\u001b[39m}\n\u001b[1;32m----> <a href='vscode-notebook-cell:/c%3A/Users/andres.estrada/Documents/Python%20Scripts/Python-Scripts/Ciencia%20de%20datos%20--Funciones%20integradas.ipynb#ch0000002?line=1'>2</a>\u001b[0m \u001b[39mprint\u001b[39;49m(\u001b[39m\"\u001b[39;49m\u001b[39maa\u001b[39;49m\u001b[39m\"\u001b[39;49m)\n",
      "\u001b[1;31mTypeError\u001b[0m: 'dict' object is not callable"
     ]
    }
   ],
   "source": [
    "dict = {\"key1\":1,\"key1\":2,\"key1\":3}\n",
    "print(\"aa\")"
   ]
  }
 ],
 "metadata": {
  "interpreter": {
   "hash": "d172a4f0c89012cb3d4ba9338e45a12af565ad32c48eca9602d34492db902be1"
  },
  "kernelspec": {
   "display_name": "Python 3.10.6 64-bit",
   "language": "python",
   "name": "python3"
  },
  "language_info": {
   "codemirror_mode": {
    "name": "ipython",
    "version": 3
   },
   "file_extension": ".py",
   "mimetype": "text/x-python",
   "name": "python",
   "nbconvert_exporter": "python",
   "pygments_lexer": "ipython3",
   "version": "3.10.6"
  },
  "orig_nbformat": 4
 },
 "nbformat": 4,
 "nbformat_minor": 2
}
