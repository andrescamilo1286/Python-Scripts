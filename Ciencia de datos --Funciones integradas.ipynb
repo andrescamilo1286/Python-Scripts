{
 "cells": [
  {
   "cell_type": "code",
   "execution_count": 13,
   "metadata": {},
   "outputs": [
    {
     "name": "stdout",
     "output_type": "stream",
     "text": [
      "u\n",
      "1\n",
      "8\n"
     ]
    }
   ],
   "source": [
    "cadena=max('Hola mundo') #Funciones muestra el caracter mas grande de la cadena.\n",
    "print(cadena)\n",
    "\n",
    "cadena=min('12345789') #Funciones muestra el caracter mas pequeño de la cadena.\n",
    "print(cadena)\n",
    "\n",
    "cadena=len('12345789') #Funciones muestra la cantidad de caracteres que hay en la cadena..\n",
    "print(cadena)"
   ]
  },
  {
   "cell_type": "code",
   "execution_count": 1,
   "metadata": {},
   "outputs": [
    {
     "name": "stdout",
     "output_type": "stream",
     "text": [
      "6\n",
      "720\n"
     ]
    }
   ],
   "source": [
    "number= 6 \n",
    "print(number)\n",
    "product = 1\n",
    "for i in range(number) : #Funcion range muestra los rangos de la cadena\n",
    "    product = product * (i+1)\n",
    "\n",
    "print(product)"
   ]
  },
  {
   "cell_type": "code",
   "execution_count": 23,
   "metadata": {},
   "outputs": [
    {
     "name": "stdout",
     "output_type": "stream",
     "text": [
      "{'Nombre': 'Sara', 'Edad': 27, 'Documento': 1003882}\n",
      "Sara\n",
      "Sara\n",
      "{'Nombre': 'Laura', 'Edad': 27, 'Documento': 1003882}\n",
      "{'Nombre': 'Laura', 'Edad': 27, 'Documento': 1003882, 'Direccion': 'Calle 123'}\n",
      "Nombre\n",
      "Edad\n",
      "Documento\n",
      "Direccion\n",
      "Laura\n",
      "27\n",
      "1003882\n",
      "Calle 123\n",
      "Nombre Laura\n",
      "Edad 27\n",
      "Documento 1003882\n",
      "Direccion Calle 123\n"
     ]
    }
   ],
   "source": [
    "#DICCIONARIOS\n",
    "d1 = {\n",
    "  \"Nombre\": \"Sara\",\n",
    "  \"Edad\": 27,\n",
    "  \"Documento\": 1003882\n",
    "}\n",
    "print(d1)\n",
    "print(d1['Nombre']) \n",
    "print(d1.get('Nombre'))\n",
    "\n",
    "\n",
    "d1['Nombre'] = \"Laura\"\n",
    "print(d1)\n",
    "\n",
    "d1['Direccion'] = \"Calle 123\"\n",
    "print(d1)\n",
    "\n",
    "for x in d1:\n",
    "    print(x)\n",
    "\n",
    "for x in d1:\n",
    "    print(d1[x])\n",
    "\n",
    "for x, y in d1.items():\n",
    "    print(x, y)"
   ]
  }
 ],
 "metadata": {
  "interpreter": {
   "hash": "d172a4f0c89012cb3d4ba9338e45a12af565ad32c48eca9602d34492db902be1"
  },
  "kernelspec": {
   "display_name": "Python 3.10.6 64-bit",
   "language": "python",
   "name": "python3"
  },
  "language_info": {
   "codemirror_mode": {
    "name": "ipython",
    "version": 3
   },
   "file_extension": ".py",
   "mimetype": "text/x-python",
   "name": "python",
   "nbconvert_exporter": "python",
   "pygments_lexer": "ipython3",
   "version": "3.10.6"
  },
  "orig_nbformat": 4
 },
 "nbformat": 4,
 "nbformat_minor": 2
}
