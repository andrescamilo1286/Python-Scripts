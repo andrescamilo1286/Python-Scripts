{
 "cells": [
  {
   "cell_type": "markdown",
   "metadata": {},
   "source": [
    "LISTAS Y TUPLAS"
   ]
  },
  {
   "cell_type": "code",
   "execution_count": 5,
   "metadata": {},
   "outputs": [
    {
     "name": "stdout",
     "output_type": "stream",
     "text": [
      "(1, 'casa', 2, 'CARRO')\n",
      "<class 'tuple'>\n",
      "<class 'str'>\n"
     ]
    }
   ],
   "source": [
    "tupla = (1,'casa',2,'CARRO') # Las tuplas sirven para guardar colecciones de datos en una sola variable, secuencia de datos ordenados / son objetos inmutables\n",
    "print(tupla)\n",
    "print(type(tupla))# Las tuplas son de tipo tuple\n",
    "print(type(tupla[1]))# De esta forma validamos el tipo de variable de cada dato de la tupla"
   ]
  },
  {
   "cell_type": "markdown",
   "metadata": {},
   "source": [
    "Concatenar dos tuplas"
   ]
  },
  {
   "cell_type": "code",
   "execution_count": 11,
   "metadata": {},
   "outputs": [
    {
     "name": "stdout",
     "output_type": "stream",
     "text": [
      "(1, 'casa', 2, 'CARRO', 'perro', 'GATO')\n",
      "(1, 2, 3, 1, 'casa', 2, 'CARRO', 'perro', 'GATO')\n"
     ]
    }
   ],
   "source": [
    "tupla = (1,'casa',2,'CARRO')\n",
    "tupla1 = (1,2,3)\n",
    "tupla2 = tupla + ('perro','GATO')# Agregar datos a una tupla\n",
    "print(tupla2)\n",
    "tupla3 = tupla1 + tupla2 #concateno 2 tuplas\n",
    "print(tupla3)\n",
    "\n"
   ]
  },
  {
   "cell_type": "code",
   "execution_count": 13,
   "metadata": {},
   "outputs": [
    {
     "name": "stdout",
     "output_type": "stream",
     "text": [
      "2\n"
     ]
    }
   ],
   "source": [
    "tupla = (1,'casa',2,'CARRO',2)\n",
    "print(tupla.count(2)) #Metodo count sirve para decir cuantas veces se repite un dato en una tupla"
   ]
  },
  {
   "cell_type": "code",
   "execution_count": 2,
   "metadata": {},
   "outputs": [
    {
     "name": "stdout",
     "output_type": "stream",
     "text": [
      "0\n"
     ]
    }
   ],
   "source": [
    "tupla = (1,'casa',2,'CARRO',2)\n",
    "print(tupla.index(1)) #Devuelve la posicion de un valor en especifico"
   ]
  },
  {
   "cell_type": "code",
   "execution_count": 7,
   "metadata": {},
   "outputs": [
    {
     "name": "stdout",
     "output_type": "stream",
     "text": [
      "[]\n"
     ]
    }
   ],
   "source": [
    "lista=[] #De esta manera se crea una lista vacia\n",
    "print(lista)"
   ]
  },
  {
   "cell_type": "markdown",
   "metadata": {},
   "source": [
    "Cambiar valor de una tupla"
   ]
  },
  {
   "cell_type": "markdown",
   "metadata": {},
   "source": []
  },
  {
   "cell_type": "code",
   "execution_count": 4,
   "metadata": {},
   "outputs": [
    {
     "name": "stdout",
     "output_type": "stream",
     "text": [
      "('perro', 'casa', 2, 'CARRO', 2)\n"
     ]
    }
   ],
   "source": [
    "tupla = (1,'casa',2,'CARRO',2)\n",
    "lista = list(tupla) #Convierto una tupla en lista para editarla\n",
    "lista[0] = 'perro'\n",
    "tupla = tuple(lista) #Convierto la lista en tupla luego de editar el campo\n",
    "print(tupla)"
   ]
  }
 ],
 "metadata": {
  "kernelspec": {
   "display_name": "Python 3.10.6 64-bit",
   "language": "python",
   "name": "python3"
  },
  "language_info": {
   "codemirror_mode": {
    "name": "ipython",
    "version": 3
   },
   "file_extension": ".py",
   "mimetype": "text/x-python",
   "name": "python",
   "nbconvert_exporter": "python",
   "pygments_lexer": "ipython3",
   "version": "3.10.6"
  },
  "orig_nbformat": 4,
  "vscode": {
   "interpreter": {
    "hash": "998afd2c369e47a6cccf08aeb32ea0017e2467a041d6b3193873ae8c315d66ab"
   }
  }
 },
 "nbformat": 4,
 "nbformat_minor": 2
}
